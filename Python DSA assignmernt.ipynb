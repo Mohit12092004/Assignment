{
 "cells": [
  {
   "cell_type": "markdown",
   "metadata": {},
   "source": [
    "Q1 Write a code to reverse a string"
   ]
  },
  {
   "cell_type": "code",
   "execution_count": 1,
   "metadata": {},
   "outputs": [
    {
     "name": "stdout",
     "output_type": "stream",
     "text": [
      "ther reverseof the string is: ollwh\n"
     ]
    }
   ],
   "source": [
    "str=\"hwllo\"\n",
    "\n",
    "print(\"ther reverseof the string is:\",str[::-1])"
   ]
  },
  {
   "cell_type": "markdown",
   "metadata": {},
   "source": [
    "Q2 Write a code to count the number of vowels in a string"
   ]
  },
  {
   "cell_type": "code",
   "execution_count": 2,
   "metadata": {},
   "outputs": [
    {
     "name": "stdout",
     "output_type": "stream",
     "text": [
      "the number of vowels are: 2\n"
     ]
    }
   ],
   "source": [
    "str='llksjdlfhhoihlkjkn'\n",
    "\n",
    "vowels=['a','e','i','o','u']\n",
    "\n",
    "count=0\n",
    "\n",
    "for i in str:\n",
    "\n",
    "    if i in vowels:\n",
    "\n",
    "        count+=1\n",
    "\n",
    "print(\"the number of vowels are:\",count)"
   ]
  },
  {
   "cell_type": "markdown",
   "metadata": {},
   "source": [
    "Q3 Write a code to check if a given string is a palindrome or not\n"
   ]
  },
  {
   "cell_type": "code",
   "execution_count": 3,
   "metadata": {},
   "outputs": [
    {
     "name": "stdout",
     "output_type": "stream",
     "text": [
      "not palindrome\n"
     ]
    }
   ],
   "source": [
    "str1='rohit'\n",
    "\n",
    "str2=str1[::-1]\n",
    "\n",
    "str2\n",
    "\n",
    "if str1==str2:\n",
    "\n",
    "    print(\"the given string is palindrome\")\n",
    "\n",
    "else:\n",
    "\n",
    "    print(\"not palindrome\")\n"
   ]
  },
  {
   "cell_type": "markdown",
   "metadata": {},
   "source": [
    "Q4 Write a code to check if two given strings are anagrams of each other"
   ]
  },
  {
   "cell_type": "code",
   "execution_count": 4,
   "metadata": {},
   "outputs": [
    {
     "name": "stdout",
     "output_type": "stream",
     "text": [
      "not anagrams\n"
     ]
    }
   ],
   "source": [
    "str1=\"hello\"\n",
    "\n",
    "str2=\"earth\"\n",
    "\n",
    "if sorted(str1)==sorted(str2):\n",
    "\n",
    "    print(\"these strings are anagrams\")\n",
    "\n",
    "else:\n",
    "\n",
    "    print(\"not anagrams\")\n"
   ]
  },
  {
   "cell_type": "markdown",
   "metadata": {},
   "source": [
    "Q5 Write a code to find all occurrences of a given substring within another string"
   ]
  },
  {
   "cell_type": "code",
   "execution_count": 5,
   "metadata": {},
   "outputs": [
    {
     "name": "stdout",
     "output_type": "stream",
     "text": [
      "the occurences of the 'llo' substring from the string  hellollo hows the day  is: 2\n"
     ]
    }
   ],
   "source": [
    "str=\"hellollo hows the day\"\n",
    "\n",
    "print(\"the occurences of the 'llo' substring from the string \",(str),\" is:\",str.count('llo'))"
   ]
  },
  {
   "cell_type": "markdown",
   "metadata": {},
   "source": [
    "Q6 Write a code to perform basic string compression using the counts of repeated characters"
   ]
  },
  {
   "cell_type": "code",
   "execution_count": 6,
   "metadata": {},
   "outputs": [
    {
     "name": "stdout",
     "output_type": "stream",
     "text": [
      "The occurrence of a is :2\n",
      "The occurrence of b is :3\n",
      "The occurrence of c is :4\n",
      "The occurrence of d is :2\n"
     ]
    }
   ],
   "source": [
    "str='aabbbccccdd'\n",
    "temp_dict={}\n",
    "for i in str:\n",
    "    if i in temp_dict:\n",
    "        temp_dict[i]+=1\n",
    "    else:\n",
    "        temp_dict[i]=1\n",
    "for repeat_char,count in temp_dict.items():\n",
    "    print(f\"The occurrence of {repeat_char} is :{count}\")\n",
    "        "
   ]
  },
  {
   "cell_type": "markdown",
   "metadata": {},
   "source": [
    "Q7 Write a code to determine if a string has all unique characters"
   ]
  },
  {
   "cell_type": "code",
   "execution_count": 7,
   "metadata": {},
   "outputs": [
    {
     "name": "stdout",
     "output_type": "stream",
     "text": [
      "True\n",
      "False\n"
     ]
    }
   ],
   "source": [
    "def all_unique_chars(s):\n",
    "    char_list = []\n",
    "    for char in s:\n",
    "        if char in char_list:\n",
    "            return False\n",
    "        char_list.append(char)\n",
    "    return True\n",
    "\n",
    "# Test the function\n",
    "print(all_unique_chars(\"abcdefg\"))  # True\n",
    "print(all_unique_chars(\"abcdefgg\")) \n",
    "    \n",
    "        "
   ]
  },
  {
   "cell_type": "markdown",
   "metadata": {},
   "source": [
    "Q8 Write a code to convert a given string to uppercase or lowercase"
   ]
  },
  {
   "cell_type": "code",
   "execution_count": 8,
   "metadata": {},
   "outputs": [
    {
     "name": "stdout",
     "output_type": "stream",
     "text": [
      "The given string string in uppercase: HOWS THA DAY GOING\n",
      "The given string string in lowercase: hows tha day going\n"
     ]
    }
   ],
   "source": [
    "string=\"Hows tha Day Going\"\n",
    "print(\"The given string string in uppercase:\",string.upper())\n",
    "print(\"The given string string in lowercase:\",string.lower())\n"
   ]
  },
  {
   "cell_type": "markdown",
   "metadata": {},
   "source": [
    "Q9 Write a code to count the number of words in a string"
   ]
  },
  {
   "cell_type": "code",
   "execution_count": 9,
   "metadata": {},
   "outputs": [
    {
     "name": "stdout",
     "output_type": "stream",
     "text": [
      "4\n"
     ]
    }
   ],
   "source": [
    "count=1\n",
    "str=\"hows the day going\"\n",
    "for i in str:\n",
    "    if i==' ':\n",
    "        count+=1\n",
    "\n",
    "    pass\n",
    "print(count)"
   ]
  },
  {
   "cell_type": "markdown",
   "metadata": {},
   "source": [
    "Q10 Write a code to concatenate two strings without using the + operator"
   ]
  },
  {
   "cell_type": "code",
   "execution_count": 10,
   "metadata": {},
   "outputs": [
    {
     "name": "stdout",
     "output_type": "stream",
     "text": [
      "helloworld\n"
     ]
    }
   ],
   "source": [
    "str1=\"hello\"\n",
    "str2=\"world\"\n",
    "merge=(f\"{str1}{str2}\")\n",
    "print(merge)"
   ]
  },
  {
   "cell_type": "markdown",
   "metadata": {},
   "source": [
    "Q11 Write a code to remove all occurrences of a specific element from a list"
   ]
  },
  {
   "cell_type": "code",
   "execution_count": 11,
   "metadata": {},
   "outputs": [
    {
     "name": "stdout",
     "output_type": "stream",
     "text": [
      "In order to remove the occurrence in the given list we have to typecast it in the set\n",
      "After typecasting we agin type cast that set of all unique element into list \n",
      "['blue', 'red', 'green']\n"
     ]
    }
   ],
   "source": [
    "l=['red','blue','green','green','red']\n",
    "print(\"In order to remove the occurrence in the given list we have to typecast it in the set\")\n",
    "\n",
    "s=set(l)\n",
    "print(\"After typecasting we agin type cast that set of all unique element into list \")\n",
    "l=list(s)\n",
    "print(l)"
   ]
  },
  {
   "cell_type": "markdown",
   "metadata": {},
   "source": [
    "Q12 Implement a code to find the second largest number in a given list of integers"
   ]
  },
  {
   "cell_type": "code",
   "execution_count": 12,
   "metadata": {},
   "outputs": [
    {
     "name": "stdout",
     "output_type": "stream",
     "text": [
      "[90, 43, 56, 12]\n",
      "The second largest element in the given list is : 56\n"
     ]
    }
   ],
   "source": [
    "l=[90,43,56,12]\n",
    "print(l)\n",
    "l.sort()\n",
    "l.pop()\n",
    "print(\"The second largest element in the given list is :\",max(l))\n"
   ]
  },
  {
   "cell_type": "markdown",
   "metadata": {},
   "source": [
    "Q13 Create a code to count the occurrences of each element in a list and return a dictionary with elements as\n",
    "keys and their counts as values"
   ]
  },
  {
   "cell_type": "code",
   "execution_count": 13,
   "metadata": {},
   "outputs": [
    {
     "name": "stdout",
     "output_type": "stream",
     "text": [
      "All the keys are: dict_keys([10, 20, 30, 40]) \n",
      "Al the values are: dict_values([3, 2, 1, 1])\n",
      "Here's your dictonary {10: 3, 20: 2, 30: 1, 40: 1}\n"
     ]
    }
   ],
   "source": [
    "l=[10,20,10,20,30,40,10]\n",
    "ele_count={}\n",
    "for num in l:\n",
    "   if num in ele_count:\n",
    "      ele_count[num]+=1\n",
    "   else:\n",
    "      ele_count[num]=1\n",
    "\n",
    "print(\"All the keys are:\",ele_count.keys(),\"\\nAl the values are:\",ele_count.values())\n",
    "print(\"Here's your dictonary\",ele_count)"
   ]
  },
  {
   "cell_type": "markdown",
   "metadata": {},
   "source": [
    "Q14 Write a code to reverse a list in-place without using any built-in reverse functions"
   ]
  },
  {
   "cell_type": "code",
   "execution_count": 14,
   "metadata": {},
   "outputs": [
    {
     "data": {
      "text/plain": [
       "[90, 23, 10, 'hello']"
      ]
     },
     "execution_count": 14,
     "metadata": {},
     "output_type": "execute_result"
    }
   ],
   "source": [
    "l=['hello',10,23,90] \n",
    "l[::-1]"
   ]
  },
  {
   "cell_type": "markdown",
   "metadata": {},
   "source": [
    "Q15 Implement a code to find and remove duplicates from a list while preserving the original order of\n",
    "elements"
   ]
  },
  {
   "cell_type": "code",
   "execution_count": 15,
   "metadata": {},
   "outputs": [
    {
     "name": "stdout",
     "output_type": "stream",
     "text": [
      "2 is the duplicate element\n",
      "3 is the duplicate element\n",
      "After remove these duplicate element [2, 3]\n",
      "here's your list [1, 2, 3]\n"
     ]
    }
   ],
   "source": [
    "l=[1,2,3,2,3]\n",
    "remove_element=[]\n",
    "for i in range(len(l)-1):\n",
    "    for j in range(i+1,len(l)):\n",
    "        if l[j]==l[i]:\n",
    "            print(l[j],\"is the duplicate element\")\n",
    "            remove_element.append(l[j])\n",
    "        else:\n",
    "            pass\n",
    "print(\"After remove these duplicate element\",remove_element)\n",
    "s=set(l)\n",
    "l=list(s)\n",
    "print(\"here's your list\",l)"
   ]
  },
  {
   "cell_type": "markdown",
   "metadata": {},
   "source": [
    "Q16 Create a code to check if a given list is sorted (either in ascending or descending order) or not"
   ]
  },
  {
   "cell_type": "markdown",
   "metadata": {},
   "source": []
  },
  {
   "cell_type": "code",
   "execution_count": 16,
   "metadata": {},
   "outputs": [
    {
     "name": "stdout",
     "output_type": "stream",
     "text": [
      "The given list is in the descending order\n"
     ]
    }
   ],
   "source": [
    "l=[5,4,3,2]\n",
    "if l==sorted(l):\n",
    "    print(\"The given list is in the ascending order\")\n",
    "elif l==sorted(l,reverse=True):\n",
    "    print(\"The given list is in the descending order\")\n",
    "else:\n",
    "    print(\"the list is not in any order\")"
   ]
  },
  {
   "cell_type": "markdown",
   "metadata": {},
   "source": [
    "Q17 Write a code to merge two sorted lists into a single sorted list"
   ]
  },
  {
   "cell_type": "code",
   "execution_count": 17,
   "metadata": {},
   "outputs": [
    {
     "name": "stdout",
     "output_type": "stream",
     "text": [
      "the single sorted list is: [0, 1, 2, 4, 20, 22, 23, 50]\n"
     ]
    }
   ],
   "source": [
    "l1=sorted([22,0,1,2])\n",
    "l2=sorted([23,4,20,50])\n",
    "sorted_list=sorted(l1+l2)\n",
    "print(\"the single sorted list is:\",sorted_list)"
   ]
  },
  {
   "cell_type": "markdown",
   "metadata": {},
   "source": [
    "Q18 Implement a code to find the intersection of two given lists"
   ]
  },
  {
   "cell_type": "code",
   "execution_count": 18,
   "metadata": {},
   "outputs": [
    {
     "name": "stdout",
     "output_type": "stream",
     "text": [
      "The 1st list: [6, 7, 8, 9]\n",
      "The second list: [8, 9, 10, 11]\n",
      "To find the intersection(common) part of these two list we have to convert them into the set and then furhut we convert that set into the list\n",
      "\n",
      "The intersection part of these two lists is: {8, 9}\n"
     ]
    }
   ],
   "source": [
    "list_1=[6,7,8,9]\n",
    "list_2=[8,9,10,11]\n",
    "print(\"The 1st list:\",list_1)\n",
    "print(\"The second list:\",list_2)\n",
    "print(\"To find the intersection(common) part of these two list we have to convert them into the set and then furhut we convert that set into the list\\n\")\n",
    "l1=set(list_1)\n",
    "l2=set(list_2)\n",
    "list_intersection=(l1 & l2)\n",
    "list(list_intersection)\n",
    "print(\"The intersection part of these two lists is:\",list_intersection)"
   ]
  },
  {
   "cell_type": "markdown",
   "metadata": {},
   "source": [
    "Q19 Create a code to find the union of two lists without duplicates"
   ]
  },
  {
   "cell_type": "code",
   "execution_count": 19,
   "metadata": {},
   "outputs": [
    {
     "name": "stdout",
     "output_type": "stream",
     "text": [
      "the first list : [4, 5, 6, 7]\n",
      "the second list: [4, 5, 1, 2]\n",
      "The union of these two lists is: [1, 2, 4, 5, 6, 7]\n"
     ]
    }
   ],
   "source": [
    "list_1=[4,5,6,7]\n",
    "list_2=[4,5,1,2]\n",
    "print(\"the first list :\",list_1)\n",
    "print(\"the second list:\",list_2)\n",
    "l1=set(list_1)\n",
    "l2=set(list_2)\n",
    "union=l1 | l2\n",
    "list_union=list(union)\n",
    "print(\"The union of these two lists is:\",list_union)"
   ]
  },
  {
   "cell_type": "markdown",
   "metadata": {},
   "source": [
    "Q20 Write a code to shuffle a given list randomly without using any built-in shuffle functions"
   ]
  },
  {
   "cell_type": "code",
   "execution_count": 20,
   "metadata": {},
   "outputs": [
    {
     "ename": "TypeError",
     "evalue": "'str' object is not callable",
     "output_type": "error",
     "traceback": [
      "\u001b[1;31m---------------------------------------------------------------------------\u001b[0m",
      "\u001b[1;31mTypeError\u001b[0m                                 Traceback (most recent call last)",
      "Cell \u001b[1;32mIn[20], line 4\u001b[0m\n\u001b[0;32m      1\u001b[0m \u001b[38;5;28;01mimport\u001b[39;00m \u001b[38;5;21;01mrandom\u001b[39;00m\n\u001b[0;32m      3\u001b[0m test_list \u001b[38;5;241m=\u001b[39m [\u001b[38;5;241m1\u001b[39m, \u001b[38;5;241m4\u001b[39m, \u001b[38;5;241m5\u001b[39m, \u001b[38;5;241m6\u001b[39m, \u001b[38;5;241m3\u001b[39m]\n\u001b[1;32m----> 4\u001b[0m \u001b[38;5;28mprint\u001b[39m(\u001b[38;5;124m\"\u001b[39m\u001b[38;5;124mThe original list is : \u001b[39m\u001b[38;5;124m\"\u001b[39m \u001b[38;5;241m+\u001b[39m \u001b[38;5;28;43mstr\u001b[39;49m\u001b[43m(\u001b[49m\u001b[43mtest_list\u001b[49m\u001b[43m)\u001b[49m)\n\u001b[0;32m      6\u001b[0m res \u001b[38;5;241m=\u001b[39m random\u001b[38;5;241m.\u001b[39msample(test_list, \u001b[38;5;28mlen\u001b[39m(test_list))\n\u001b[0;32m      7\u001b[0m \u001b[38;5;28mprint\u001b[39m(\u001b[38;5;124m\"\u001b[39m\u001b[38;5;124mThe shuffled list is : \u001b[39m\u001b[38;5;124m\"\u001b[39m \u001b[38;5;241m+\u001b[39m \u001b[38;5;28mstr\u001b[39m(res))\n",
      "\u001b[1;31mTypeError\u001b[0m: 'str' object is not callable"
     ]
    }
   ],
   "source": [
    "import random\n",
    "\n",
    "test_list = [1, 4, 5, 6, 3]\n",
    "print(\"The original list is : \" + str(test_list))\n",
    "\n",
    "res = random.sample(test_list, len(test_list))\n",
    "print(\"The shuffled list is : \" + str(res))"
   ]
  },
  {
   "cell_type": "markdown",
   "metadata": {},
   "source": [
    "Q21 Write a code that takes two tuples as input and returns a new tuple containing elements that are\n",
    "common to both input tuples"
   ]
  },
  {
   "cell_type": "code",
   "execution_count": null,
   "metadata": {},
   "outputs": [
    {
     "name": "stdout",
     "output_type": "stream",
     "text": [
      "(1, 2)\n"
     ]
    }
   ],
   "source": [
    "def get_tuple(tuple_1,tuple_2):\n",
    "    new_tuple=()\n",
    "    for i in tuple_1:\n",
    "        if i in tuple_2:\n",
    "            new_tuple+=(i,)\n",
    "    return new_tuple\n",
    "               \n",
    "print(get_tuple((1,2,3),(1,2,6)))\n"
   ]
  },
  {
   "cell_type": "markdown",
   "metadata": {},
   "source": [
    "Q22 Create a code that prompts the user to enter two sets of integers separated by commas. Then, print the\n",
    "intersection of these two sets"
   ]
  },
  {
   "cell_type": "code",
   "execution_count": 21,
   "metadata": {},
   "outputs": [
    {
     "name": "stdout",
     "output_type": "stream",
     "text": [
      "{2, 3}\n"
     ]
    }
   ],
   "source": [
    "def set_intersection(set_1,set_2):\n",
    "    print(set_1 & set_2)\n",
    "set_intersection({1,2,3,4},{5,2,3,66})"
   ]
  },
  {
   "cell_type": "markdown",
   "metadata": {},
   "source": [
    "Q23 Write a code to concatenate two tuples. The function should take two tuples as input and return a new tuple containing elements from both input tuples."
   ]
  },
  {
   "cell_type": "code",
   "execution_count": 22,
   "metadata": {},
   "outputs": [
    {
     "data": {
      "text/plain": [
       "(1, 2, 3, 4, 5, 6)"
      ]
     },
     "execution_count": 22,
     "metadata": {},
     "output_type": "execute_result"
    }
   ],
   "source": [
    "def tuple_concat(tuple_1,tuple_2):\n",
    "    new_tuple=()\n",
    "    merge_tuple=tuple_1+tuple_2\n",
    "    for i in range(len(merge_tuple)):\n",
    "        new_tuple+=(merge_tuple[i],)\n",
    "    return new_tuple\n",
    "tuple_concat((1,2,3),(4,5,6))\n",
    "    \n",
    "    \n",
    "    "
   ]
  },
  {
   "cell_type": "markdown",
   "metadata": {},
   "source": [
    "Q24 Develop a code that prompts the user to input two sets of strings. Then, print the elements that are present in the first set but not in the second set&"
   ]
  },
  {
   "cell_type": "code",
   "execution_count": 23,
   "metadata": {},
   "outputs": [
    {
     "name": "stdout",
     "output_type": "stream",
     "text": [
      "First set: {'how are you', 'mohit', 'hello'}\n",
      "Second set: {'kota', 'bandipur'}\n",
      "\n",
      "\n",
      "After merging the two set: {'how are you', 'bandipur', 'hello', 'kota', 'mohit'} \n",
      "\n",
      "In order to find the set of strings which are presented in the first set:\n",
      "how are you\n",
      "hello\n",
      "mohit\n"
     ]
    }
   ],
   "source": [
    "s1={'hello','mohit','how are you'}\n",
    "print(\"First set:\",s1)\n",
    "s2={'kota','bandipur'}\n",
    "print(\"Second set:\",s2)\n",
    "s2.update(s1)\n",
    "print(\"\\n\\nAfter merging the two set:\",s2,\"\\n\\nIn order to find the set of strings which are presented in the first set:\")\n",
    "for i in s2:\n",
    "    if i in s1:\n",
    "     print(i)"
   ]
  },
  {
   "cell_type": "markdown",
   "metadata": {},
   "source": [
    "Q25 Create a code that takes a tuple and two integers as input. The function should return a new tuple containing elements from the original tuple within the specified range of indices&"
   ]
  },
  {
   "cell_type": "code",
   "execution_count": 24,
   "metadata": {},
   "outputs": [
    {
     "data": {
      "text/plain": [
       "('hello', 1, 2, 4.5)"
      ]
     },
     "execution_count": 24,
     "metadata": {},
     "output_type": "execute_result"
    }
   ],
   "source": [
    "def get_tuple(_tuple,a,b):\n",
    "    new_tuple=()\n",
    "    new_tuple=_tuple[a:b]\n",
    "    return new_tuple\n",
    "\n",
    "get_tuple(('hello',1,2,4.5,4+7j),0,4)"
   ]
  },
  {
   "cell_type": "markdown",
   "metadata": {},
   "source": [
    "Q26 Write a code that prompts the user to input two sets of characters. Then, print the union of these two sets"
   ]
  },
  {
   "cell_type": "code",
   "execution_count": 25,
   "metadata": {},
   "outputs": [
    {
     "name": "stdout",
     "output_type": "stream",
     "text": [
      "set()\n"
     ]
    }
   ],
   "source": [
    "set_1=set(input('enter the character'))\n",
    "set_2=set(input(\"enter the characters\"))\n",
    "print(set_1 | set_2)"
   ]
  },
  {
   "cell_type": "markdown",
   "metadata": {},
   "source": [
    "Q27 Develop a code that takes a tuple of integers as input. The function should return the maximum and minimum values from the tuple using tuple unpacking"
   ]
  },
  {
   "cell_type": "code",
   "execution_count": 26,
   "metadata": {},
   "outputs": [
    {
     "name": "stdout",
     "output_type": "stream",
     "text": [
      "The maximum value 40\n",
      " minimum value 0\n"
     ]
    }
   ],
   "source": [
    "def find_max_min(_tuple):\n",
    "    max_value=max(_tuple)\n",
    "    min_value=min(_tuple)\n",
    "    return (max_value,min_value)\n",
    "my_tuple=(1,22,34,0,40)\n",
    "\n",
    "max_value,min_value=find_max_min(my_tuple)\n",
    "print(f\"The maximum value {max_value}\\n minimum value {min_value}\")\n"
   ]
  },
  {
   "cell_type": "markdown",
   "metadata": {},
   "source": [
    "Q28 Create a code that defines two sets of integers. Then, print the union, intersection, and difference of these two sets"
   ]
  },
  {
   "cell_type": "code",
   "execution_count": 27,
   "metadata": {},
   "outputs": [
    {
     "name": "stdout",
     "output_type": "stream",
     "text": [
      "The two sets are : {1, 3, 4, 5, 22, 7}    {3, 5, 6, 22, 89}\n",
      "The union of these two sets are{1, 3, 4, 5, 6, 7, 22, 89}\n",
      "Intersection of these two sets are{3, 5, 22}\n",
      "The difference of these two sets are{1, 4, 7} \n"
     ]
    }
   ],
   "source": [
    "set_1={1,22,3,4,5,7}\n",
    "set_2={6,5,3,22,89}\n",
    "print(\"The two sets are :\",set_1,\"  \",set_2)\n",
    "print(f\"The union of these two sets are{set_1|set_2}\\nIntersection of these two sets are{set_1&set_2}\\nThe difference of these two sets are{set_1-set_2} \")"
   ]
  },
  {
   "cell_type": "markdown",
   "metadata": {},
   "source": [
    "Q29 Write a code that takes a tuple and an element as input. The function should return the count of occurrences of the given element in the tuple"
   ]
  },
  {
   "cell_type": "code",
   "execution_count": 28,
   "metadata": {},
   "outputs": [
    {
     "name": "stdout",
     "output_type": "stream",
     "text": [
      "the occurrence of the 1 is 1\n",
      "the occurrence of the 2 is 3\n",
      "the occurrence of the 3 is 2\n",
      "the occurrence of the 4 is 1\n",
      "the occurrence of the 45 is 1\n"
     ]
    }
   ],
   "source": [
    "temp_dict={}\n",
    "def count_occur(_tuple):\n",
    "    for i in _tuple:\n",
    "        if i in temp_dict:\n",
    "          temp_dict[i]+=1\n",
    "        else: \n",
    "            temp_dict[i]=1\n",
    "    return temp_dict\n",
    "count_occur((1,2,3,2,4,45,3,2))\n",
    "for ele,cnt in temp_dict.items():\n",
    "    print(f\"the occurrence of the {ele} is {cnt}\")"
   ]
  },
  {
   "cell_type": "markdown",
   "metadata": {},
   "source": [
    "Q30 Develop a code that prompts the user to input two sets of strings. Then, print the symmetric difference of\n",
    "these two sets"
   ]
  },
  {
   "cell_type": "code",
   "execution_count": 29,
   "metadata": {},
   "outputs": [
    {
     "data": {
      "text/plain": [
       "set()"
      ]
     },
     "execution_count": 29,
     "metadata": {},
     "output_type": "execute_result"
    }
   ],
   "source": [
    "\n",
    "str_1=input(\"enter the first string\").split()\n",
    "str_2=input(\"enter the second string\").split()\n",
    "set_1=set(list(str_1))\n",
    "set_1"
   ]
  },
  {
   "cell_type": "markdown",
   "metadata": {},
   "source": [
    "Q31 Write a code that takes a list of words as input and returns a dictionary where the keys are unique words and the values are the frequencies of those words in the input list"
   ]
  },
  {
   "cell_type": "code",
   "execution_count": 30,
   "metadata": {},
   "outputs": [
    {
     "data": {
      "text/plain": [
       "{'h': 1, 'o': 2, 'l': 2}"
      ]
     },
     "execution_count": 30,
     "metadata": {},
     "output_type": "execute_result"
    }
   ],
   "source": [
    "def get_dict(list_1):\n",
    "    my_dict={}\n",
    "    for words in list_1:\n",
    "        if words in my_dict:\n",
    "            my_dict[words] += 1\n",
    "        else:\n",
    "            my_dict[words] = 1\n",
    "    return my_dict\n",
    "get_dict(['h','o','l','o','l'])"
   ]
  },
  {
   "cell_type": "markdown",
   "metadata": {},
   "source": [
    "Q32 Write a code that takes two dictionaries as input and merges them into a single dictionary. If there are\n",
    "common keys, the values should be added together"
   ]
  },
  {
   "cell_type": "code",
   "execution_count": 31,
   "metadata": {},
   "outputs": [
    {
     "data": {
      "text/plain": [
       "{'name': 'mohithimani', 'course': 'BCAMSC'}"
      ]
     },
     "execution_count": 31,
     "metadata": {},
     "output_type": "execute_result"
    }
   ],
   "source": [
    "def get_dict(dict_1,dict_2):\n",
    "    my_dict={}\n",
    "    for key_1,value_1 in dict_1.items():\n",
    "        for key_2,value_2 in dict_2.items():\n",
    "            if key_1==key_2:\n",
    "                if key_1 not in my_dict:\n",
    "                    my_dict[key_1]=(value_1+value_2)\n",
    "                else:\n",
    "                  pass\n",
    "    return my_dict\n",
    "get_dict({'name':'mohit','course':'BCA'},{'name':'himani','course':'MSC'})\n",
    "                                        \n",
    "    "
   ]
  },
  {
   "cell_type": "markdown",
   "metadata": {},
   "source": [
    "Q33 Write a code to access a value in a nested dictionary. The function should take the dictionary and a list of\n",
    "keys as input, and return the corresponding value. If any of the keys do not exist in the dictionary, the\n",
    "function should return None"
   ]
  },
  {
   "cell_type": "code",
   "execution_count": 32,
   "metadata": {},
   "outputs": [
    {
     "name": "stdout",
     "output_type": "stream",
     "text": [
      "340000\n"
     ]
    }
   ],
   "source": [
    "nested_dict={'E01':{'name':'rakesh','salary':340000,'d_no':201}}\n",
    "def access_nested_dict(dict_,keys_):\n",
    "    for i in keys_:\n",
    "        try:\n",
    "            dict_=dict_[i]\n",
    "        except KeyError:\n",
    "            return None\n",
    "    return dict_\n",
    "keys=['E01','salary']\n",
    "print(access_nested_dict(nested_dict,keys))    "
   ]
  },
  {
   "cell_type": "markdown",
   "metadata": {},
   "source": [
    "Q34 Write a code that takes a dictionary as input and returns a sorted version of it based on the values. You can choose whether to sort in ascending or descending order&"
   ]
  },
  {
   "cell_type": "code",
   "execution_count": 33,
   "metadata": {},
   "outputs": [
    {
     "name": "stdout",
     "output_type": "stream",
     "text": [
      "{'jatin score': 1, 'rahul score': 2, 'hina score': 23}\n",
      "{'hina score': 23, 'rahul score': 2, 'jatin score': 1}\n"
     ]
    }
   ],
   "source": [
    "import operator\n",
    "def sort_dict(d,ascending=True):\n",
    "    sort_items=sorted(d.items(),key=operator.itemgetter(1),reverse=not ascending)\n",
    "    return {k:v for k,v in sort_items}\n",
    "data={'rahul score':2,'jatin score':1,'hina score':23}\n",
    "print(sort_dict(data,ascending=True))\n",
    "print(sort_dict(data,ascending=False))"
   ]
  },
  {
   "cell_type": "markdown",
   "metadata": {},
   "source": [
    " Q35 Write a code that inverts a dictionary, swapping keys and values. Ensure that the inverted dictionary\n",
    "correctly handles cases where multiple keys have the same value by storing the keys as a list in the\n",
    "inverted dictionary."
   ]
  },
  {
   "cell_type": "code",
   "execution_count": 34,
   "metadata": {},
   "outputs": [
    {
     "name": "stdout",
     "output_type": "stream",
     "text": [
      "{67: ['A', 'G'], 23: ['B', 'H'], 45: ['C'], 56: ['D'], 12: ['E'], 69: ['F']}\n"
     ]
    }
   ],
   "source": [
    "def invert_dict(original_dict):\n",
    "    inverted_dict = {}\n",
    "    for key, value in original_dict.items():\n",
    "        if value not in inverted_dict:\n",
    "            inverted_dict[value] = [key]\n",
    "        else:\n",
    "            inverted_dict[value].append(key)\n",
    "    return inverted_dict\n",
    "original_dict = {'A': 67, 'B': 23, 'C': 45, 'D': 56, 'E': 12, 'F': 69, 'G': 67, 'H': 23}\n",
    "inverted_dict = invert_dict(original_dict)\n",
    "print(inverted_dict)\n"
   ]
  }
 ],
 "metadata": {
  "kernelspec": {
   "display_name": "Python 3",
   "language": "python",
   "name": "python3"
  },
  "language_info": {
   "codemirror_mode": {
    "name": "ipython",
    "version": 3
   },
   "file_extension": ".py",
   "mimetype": "text/x-python",
   "name": "python",
   "nbconvert_exporter": "python",
   "pygments_lexer": "ipython3",
   "version": "3.11.9"
  }
 },
 "nbformat": 4,
 "nbformat_minor": 2
}
